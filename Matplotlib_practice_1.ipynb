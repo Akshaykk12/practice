{
 "cells": [
  {
   "cell_type": "code",
   "execution_count": 14,
   "id": "d35cdc58",
   "metadata": {},
   "outputs": [],
   "source": [
    "import numpy as np\n",
    "import matplotlib.pyplot as plt"
   ]
  },
  {
   "cell_type": "code",
   "execution_count": 15,
   "id": "21719e98",
   "metadata": {},
   "outputs": [],
   "source": [
    "A= np.random.rand(10)"
   ]
  },
  {
   "cell_type": "code",
   "execution_count": 16,
   "id": "6ac1e319",
   "metadata": {},
   "outputs": [
    {
     "data": {
      "text/plain": [
       "array([0.75931401, 0.90988196, 0.17399804, 0.02612723, 0.33354466,\n",
       "       0.83266959, 0.38235781, 0.50542191, 0.07245187, 0.25087744])"
      ]
     },
     "execution_count": 16,
     "metadata": {},
     "output_type": "execute_result"
    }
   ],
   "source": [
    "A"
   ]
  },
  {
   "cell_type": "code",
   "execution_count": 17,
   "id": "7dce6bc8",
   "metadata": {},
   "outputs": [
    {
     "data": {
      "text/plain": [
       "(array([2., 1., 1., 1., 1., 1., 0., 0., 1., 2.]),\n",
       " array([0.02612723, 0.11450271, 0.20287818, 0.29125365, 0.37962912,\n",
       "        0.4680046 , 0.55638007, 0.64475554, 0.73313102, 0.82150649,\n",
       "        0.90988196]),\n",
       " <BarContainer object of 10 artists>)"
      ]
     },
     "execution_count": 17,
     "metadata": {},
     "output_type": "execute_result"
    },
    {
     "data": {
      "image/png": "[encoded data removed]",
      "text/plain": [
       "<Figure size 640x480 with 1 Axes>"
      ]
     },
     "metadata": {},
     "output_type": "display_data"
    }
   ],
   "source": [
    "plt.hist(A, bins=10)"
   ]
  },
  {
   "cell_type": "code",
   "execution_count": 18,
   "id": "87b7552e",
   "metadata": {},
   "outputs": [
    {
     "data": {
      "text/plain": [
       "(array([ 1.,  0.,  0.,  0.,  0.,  0.,  0.,  0.,  0.,  0.,  0.,  0.,  0.,\n",
       "         0.,  0.,  0.,  0.,  0.,  2.,  1.,  0.,  0.,  0.,  0.,  0.,  0.,\n",
       "         1.,  2.,  2.,  0.,  1.,  3.,  0.,  1.,  3.,  2.,  2.,  0.,  1.,\n",
       "         2.,  0.,  2.,  1.,  1.,  1.,  1.,  4.,  5.,  5.,  5.,  1.,  7.,\n",
       "         5.,  6.,  6.,  0.,  1.,  6.,  6.,  7.,  9.,  4., 10., 10.,  9.,\n",
       "         6.,  9.,  7., 12., 11., 12., 10., 14., 12.,  9.,  7.,  6.,  7.,\n",
       "        11., 11., 10.,  6., 11., 17., 10., 11., 22., 14., 21., 14., 10.,\n",
       "        17., 18., 15.,  6.,  9., 16., 13., 11., 17., 19., 10., 17.,  9.,\n",
       "        12., 15., 15., 13., 17., 13., 11.,  8., 14., 18., 10., 14., 10.,\n",
       "         5.,  8.,  4., 12.,  5., 12., 10.,  7.,  3.,  6.,  9.,  8.,  4.,\n",
       "         7.,  5.,  4.,  2.,  4.,  7.,  9.,  6.,  7.,  4.,  4.,  9.,  4.,\n",
       "         4.,  3.,  3.,  7.,  3.,  3.,  4.,  1.,  2.,  2.,  4.,  3.,  1.,\n",
       "         0.,  2.,  2.,  2.,  3.,  1.,  2.,  3.,  1.,  1.,  0.,  1.,  0.,\n",
       "         0.,  0.,  0.,  0.,  0.,  0.,  1.,  0.,  0.,  0.,  0.,  1.,  0.,\n",
       "         0.,  0.,  0.,  0.,  1.,  0.,  0.,  0.,  0.,  0.,  0.,  0.,  0.,\n",
       "         0.,  0.,  0.,  0.,  1.]),\n",
       " array([-3.27316809, -3.23968077, -3.20619345, -3.17270613, -3.13921881,\n",
       "        -3.10573148, -3.07224416, -3.03875684, -3.00526952, -2.9717822 ,\n",
       "        -2.93829487, -2.90480755, -2.87132023, -2.83783291, -2.80434559,\n",
       "        -2.77085826, -2.73737094, -2.70388362, -2.6703963 , -2.63690898,\n",
       "        -2.60342165, -2.56993433, -2.53644701, -2.50295969, -2.46947237,\n",
       "        -2.43598504, -2.40249772, -2.3690104 , -2.33552308, -2.30203576,\n",
       "        -2.26854844, -2.23506111, -2.20157379, -2.16808647, -2.13459915,\n",
       "        -2.10111183, -2.0676245 , -2.03413718, -2.00064986, -1.96716254,\n",
       "        -1.93367522, -1.90018789, -1.86670057, -1.83321325, -1.79972593,\n",
       "        -1.76623861, -1.73275128, -1.69926396, -1.66577664, -1.63228932,\n",
       "        -1.598802  , -1.56531467, -1.53182735, -1.49834003, -1.46485271,\n",
       "        -1.43136539, -1.39787806, -1.36439074, -1.33090342, -1.2974161 ,\n",
       "        -1.26392878, -1.23044146, -1.19695413, -1.16346681, -1.12997949,\n",
       "        -1.09649217, -1.06300485, -1.02951752, -0.9960302 , -0.96254288,\n",
       "        -0.92905556, -0.89556824, -0.86208091, -0.82859359, -0.79510627,\n",
       "        -0.76161895, -0.72813163, -0.6946443 , -0.66115698, -0.62766966,\n",
       "        -0.59418234, -0.56069502, -0.52720769, -0.49372037, -0.46023305,\n",
       "        -0.42674573, -0.39325841, -0.35977108, -0.32628376, -0.29279644,\n",
       "        -0.25930912, -0.2258218 , -0.19233448, -0.15884715, -0.12535983,\n",
       "        -0.09187251, -0.05838519, -0.02489787,  0.00858946,  0.04207678,\n",
       "         0.0755641 ,  0.10905142,  0.14253874,  0.17602607,  0.20951339,\n",
       "         0.24300071,  0.27648803,  0.30997535,  0.34346268,  0.37695   ,\n",
       "         0.41043732,  0.44392464,  0.47741196,  0.51089929,  0.54438661,\n",
       "         0.57787393,  0.61136125,  0.64484857,  0.6783359 ,  0.71182322,\n",
       "         0.74531054,  0.77879786,  0.81228518,  0.8457725 ,  0.87925983,\n",
       "         0.91274715,  0.94623447,  0.97972179,  1.01320911,  1.04669644,\n",
       "         1.08018376,  1.11367108,  1.1471584 ,  1.18064572,  1.21413305,\n",
       "         1.24762037,  1.28110769,  1.31459501,  1.34808233,  1.38156966,\n",
       "         1.41505698,  1.4485443 ,  1.48203162,  1.51551894,  1.54900627,\n",
       "         1.58249359,  1.61598091,  1.64946823,  1.68295555,  1.71644288,\n",
       "         1.7499302 ,  1.78341752,  1.81690484,  1.85039216,  1.88387948,\n",
       "         1.91736681,  1.95085413,  1.98434145,  2.01782877,  2.05131609,\n",
       "         2.08480342,  2.11829074,  2.15177806,  2.18526538,  2.2187527 ,\n",
       "         2.25224003,  2.28572735,  2.31921467,  2.35270199,  2.38618931,\n",
       "         2.41967664,  2.45316396,  2.48665128,  2.5201386 ,  2.55362592,\n",
       "         2.58711325,  2.62060057,  2.65408789,  2.68757521,  2.72106253,\n",
       "         2.75454986,  2.78803718,  2.8215245 ,  2.85501182,  2.88849914,\n",
       "         2.92198646,  2.95547379,  2.98896111,  3.02244843,  3.05593575,\n",
       "         3.08942307,  3.1229104 ,  3.15639772,  3.18988504,  3.22337236,\n",
       "         3.25685968,  3.29034701,  3.32383433,  3.35732165,  3.39080897,\n",
       "         3.42429629]),\n",
       " <BarContainer object of 200 artists>)"
      ]
     },
     "execution_count": 18,
     "metadata": {},
     "output_type": "execute_result"
    },
    {
     "data": {
      "image/png": "[encoded data removed]",
      "text/plain": [
       "<Figure size 640x480 with 1 Axes>"
      ]
     },
     "metadata": {},
     "output_type": "display_data"
    }
   ],
   "source": [
    "B= np.random.randn(1000)\n",
    "plt.hist(B, bins=200)"
   ]
  },
  {
   "cell_type": "code",
   "execution_count": 19,
   "id": "6680dbe0",
   "metadata": {},
   "outputs": [],
   "source": [
    "c= np.random.rand(2,3)"
   ]
  },
  {
   "cell_type": "code",
   "execution_count": 20,
   "id": "093f9411",
   "metadata": {},
   "outputs": [
    {
     "data": {
      "text/plain": [
       "2"
      ]
     },
     "execution_count": 20,
     "metadata": {},
     "output_type": "execute_result"
    }
   ],
   "source": [
    "c.ndim"
   ]
  },
  {
   "cell_type": "code",
   "execution_count": 21,
   "id": "b5f33577",
   "metadata": {},
   "outputs": [
    {
     "data": {
      "text/plain": [
       "array([[0.63487744, 0.35030379, 0.37265742],\n",
       "       [0.79415648, 0.53160935, 0.93435401]])"
      ]
     },
     "execution_count": 21,
     "metadata": {},
     "output_type": "execute_result"
    }
   ],
   "source": [
    "c"
   ]
  },
  {
   "cell_type": "code",
   "execution_count": 22,
   "id": "0d655ae9",
   "metadata": {},
   "outputs": [],
   "source": [
    "c= np.random.rand(2,3,4,2)"
   ]
  },
  {
   "cell_type": "code",
   "execution_count": 23,
   "id": "69a1a1df",
   "metadata": {},
   "outputs": [
    {
     "data": {
      "text/plain": [
       "array([[[[0.50947344, 0.42885318],\n",
       "         [0.00640274, 0.94964367],\n",
       "         [0.85051006, 0.4777095 ],\n",
       "         [0.24219324, 0.71732201]],\n",
       "\n",
       "        [[0.86150765, 0.90180846],\n",
       "         [0.47033423, 0.35871368],\n",
       "         [0.10264551, 0.5293076 ],\n",
       "         [0.76540439, 0.08614934]],\n",
       "\n",
       "        [[0.27229897, 0.4950896 ],\n",
       "         [0.2595729 , 0.21383745],\n",
       "         [0.34890826, 0.42736984],\n",
       "         [0.54046738, 0.71379538]]],\n",
       "\n",
       "\n",
       "       [[[0.63008284, 0.14075765],\n",
       "         [0.03710535, 0.07134532],\n",
       "         [0.28941063, 0.4177884 ],\n",
       "         [0.85813448, 0.60878425]],\n",
       "\n",
       "        [[0.28984917, 0.36313112],\n",
       "         [0.04915434, 0.91794099],\n",
       "         [0.25137322, 0.23192147],\n",
       "         [0.57561328, 0.13896296]],\n",
       "\n",
       "        [[0.60312748, 0.19077867],\n",
       "         [0.92049737, 0.91503629],\n",
       "         [0.72275649, 0.88221289],\n",
       "         [0.19791443, 0.64898681]]]])"
      ]
     },
     "execution_count": 23,
     "metadata": {},
     "output_type": "execute_result"
    }
   ],
   "source": [
    "c"
   ]
  },
  {
   "cell_type": "code",
   "execution_count": 24,
   "id": "5bb6c116",
   "metadata": {},
   "outputs": [
    {
     "data": {
      "text/plain": [
       "4"
      ]
     },
     "execution_count": 24,
     "metadata": {},
     "output_type": "execute_result"
    }
   ],
   "source": [
    "c.ndim"
   ]
  },
  {
   "cell_type": "code",
   "execution_count": 26,
   "id": "5724645e",
   "metadata": {},
   "outputs": [
    {
     "data": {
      "text/plain": [
       "array([ 0,  1,  2,  3,  4,  5,  6,  7,  8,  9, 10, 11, 12, 13, 14, 15, 16,\n",
       "       17, 18, 19, 20, 21, 22, 23, 24, 25, 26, 27, 28, 29, 30, 31, 32, 33,\n",
       "       34, 35, 36, 37, 38, 39, 40, 41, 42, 43, 44, 45, 46, 47, 48, 49, 50,\n",
       "       51, 52, 53, 54, 55, 56, 57, 58, 59, 60, 61, 62, 63, 64, 65, 66, 67,\n",
       "       68, 69, 70, 71, 72, 73, 74, 75, 76, 77, 78, 79, 80, 81, 82, 83, 84,\n",
       "       85, 86, 87, 88, 89, 90, 91, 92, 93, 94, 95, 96, 97, 98, 99])"
      ]
     },
     "execution_count": 26,
     "metadata": {},
     "output_type": "execute_result"
    }
   ],
   "source": [
    "A=np.arange(100)\n",
    "A"
   ]
  },
  {
   "cell_type": "code",
   "execution_count": 27,
   "id": "94c1cb8f",
   "metadata": {},
   "outputs": [
    {
     "data": {
      "text/plain": [
       "array([3, 4, 5, 6, 7, 8, 9])"
      ]
     },
     "execution_count": 27,
     "metadata": {},
     "output_type": "execute_result"
    }
   ],
   "source": [
    "b = A[3:10]\n",
    "b"
   ]
  },
  {
   "cell_type": "code",
   "execution_count": 28,
   "id": "4b218477",
   "metadata": {},
   "outputs": [],
   "source": [
    "b[0]= -120"
   ]
  },
  {
   "cell_type": "code",
   "execution_count": 29,
   "id": "07f92076",
   "metadata": {},
   "outputs": [
    {
     "data": {
      "text/plain": [
       "array([-120,    4,    5,    6,    7,    8,    9])"
      ]
     },
     "execution_count": 29,
     "metadata": {},
     "output_type": "execute_result"
    }
   ],
   "source": [
    "b\n"
   ]
  },
  {
   "cell_type": "code",
   "execution_count": 30,
   "id": "3f92d416",
   "metadata": {},
   "outputs": [
    {
     "data": {
      "text/plain": [
       "array([   0,    1,    2, -120,    4,    5,    6,    7,    8,    9,   10,\n",
       "         11,   12,   13,   14,   15,   16,   17,   18,   19,   20,   21,\n",
       "         22,   23,   24,   25,   26,   27,   28,   29,   30,   31,   32,\n",
       "         33,   34,   35,   36,   37,   38,   39,   40,   41,   42,   43,\n",
       "         44,   45,   46,   47,   48,   49,   50,   51,   52,   53,   54,\n",
       "         55,   56,   57,   58,   59,   60,   61,   62,   63,   64,   65,\n",
       "         66,   67,   68,   69,   70,   71,   72,   73,   74,   75,   76,\n",
       "         77,   78,   79,   80,   81,   82,   83,   84,   85,   86,   87,\n",
       "         88,   89,   90,   91,   92,   93,   94,   95,   96,   97,   98,\n",
       "         99])"
      ]
     },
     "execution_count": 30,
     "metadata": {},
     "output_type": "execute_result"
    }
   ],
   "source": [
    "A"
   ]
  },
  {
   "cell_type": "code",
   "execution_count": 31,
   "id": "1b3f06e5",
   "metadata": {},
   "outputs": [],
   "source": [
    "b= A[3:10].copy"
   ]
  },
  {
   "cell_type": "code",
   "execution_count": 33,
   "id": "e048a5bf",
   "metadata": {},
   "outputs": [
    {
     "data": {
      "text/plain": [
       "array([ 0,  5, 10, 15, 20, 25, 30, 35, 40, 45, 50, 55, 60, 65, 70, 75, 80,\n",
       "       85, 90, 95])"
      ]
     },
     "execution_count": 33,
     "metadata": {},
     "output_type": "execute_result"
    }
   ],
   "source": [
    "A[::5]"
   ]
  },
  {
   "cell_type": "code",
   "execution_count": 34,
   "id": "1ab37d61",
   "metadata": {},
   "outputs": [
    {
     "data": {
      "text/plain": [
       "array([99, 94, 89, 84, 79, 74, 69, 64, 59, 54, 49, 44, 39, 34, 29, 24, 19,\n",
       "       14,  9,  4])"
      ]
     },
     "execution_count": 34,
     "metadata": {},
     "output_type": "execute_result"
    }
   ],
   "source": [
    "A[::-5]"
   ]
  },
  {
   "cell_type": "code",
   "execution_count": 35,
   "id": "ac614d6a",
   "metadata": {},
   "outputs": [],
   "source": [
    "np.indices?"
   ]
  },
  {
   "cell_type": "code",
   "execution_count": 36,
   "id": "35db8beb",
   "metadata": {},
   "outputs": [],
   "source": [
    "B= (A==-1200)*np.arange(A.size)"
   ]
  },
  {
   "cell_type": "code",
   "execution_count": 37,
   "id": "151bc03d",
   "metadata": {},
   "outputs": [
    {
     "data": {
      "text/plain": [
       "array([0, 0, 0, 0, 0, 0, 0, 0, 0, 0, 0, 0, 0, 0, 0, 0, 0, 0, 0, 0, 0, 0,\n",
       "       0, 0, 0, 0, 0, 0, 0, 0, 0, 0, 0, 0, 0, 0, 0, 0, 0, 0, 0, 0, 0, 0,\n",
       "       0, 0, 0, 0, 0, 0, 0, 0, 0, 0, 0, 0, 0, 0, 0, 0, 0, 0, 0, 0, 0, 0,\n",
       "       0, 0, 0, 0, 0, 0, 0, 0, 0, 0, 0, 0, 0, 0, 0, 0, 0, 0, 0, 0, 0, 0,\n",
       "       0, 0, 0, 0, 0, 0, 0, 0, 0, 0, 0, 0])"
      ]
     },
     "execution_count": 37,
     "metadata": {},
     "output_type": "execute_result"
    }
   ],
   "source": [
    "B"
   ]
  },
  {
   "cell_type": "code",
   "execution_count": 41,
   "id": "5b9a9e12",
   "metadata": {},
   "outputs": [],
   "source": [
    "idx= np.argwhere(A==-120)[0][0]"
   ]
  },
  {
   "cell_type": "code",
   "execution_count": 42,
   "id": "81266673",
   "metadata": {},
   "outputs": [
    {
     "data": {
      "text/plain": [
       "3"
      ]
     },
     "execution_count": 42,
     "metadata": {},
     "output_type": "execute_result"
    }
   ],
   "source": [
    "idx"
   ]
  },
  {
   "cell_type": "code",
   "execution_count": 43,
   "id": "1341ae52",
   "metadata": {},
   "outputs": [],
   "source": [
    "A[idx]= 3"
   ]
  },
  {
   "cell_type": "code",
   "execution_count": 44,
   "id": "13665f16",
   "metadata": {},
   "outputs": [
    {
     "data": {
      "text/plain": [
       "array([ 0,  1,  2,  3,  4,  5,  6,  7,  8,  9, 10, 11, 12, 13, 14, 15, 16,\n",
       "       17, 18, 19, 20, 21, 22, 23, 24, 25, 26, 27, 28, 29, 30, 31, 32, 33,\n",
       "       34, 35, 36, 37, 38, 39, 40, 41, 42, 43, 44, 45, 46, 47, 48, 49, 50,\n",
       "       51, 52, 53, 54, 55, 56, 57, 58, 59, 60, 61, 62, 63, 64, 65, 66, 67,\n",
       "       68, 69, 70, 71, 72, 73, 74, 75, 76, 77, 78, 79, 80, 81, 82, 83, 84,\n",
       "       85, 86, 87, 88, 89, 90, 91, 92, 93, 94, 95, 96, 97, 98, 99])"
      ]
     },
     "execution_count": 44,
     "metadata": {},
     "output_type": "execute_result"
    }
   ],
   "source": [
    "A"
   ]
  },
  {
   "cell_type": "code",
   "execution_count": 49,
   "id": "e783c187",
   "metadata": {},
   "outputs": [],
   "source": [
    "A= np.round(10*np.random.rand(5,4))"
   ]
  },
  {
   "cell_type": "code",
   "execution_count": 50,
   "id": "04e6b692",
   "metadata": {},
   "outputs": [
    {
     "data": {
      "text/plain": [
       "array([[ 1.,  1.,  8.,  9.],\n",
       "       [ 7.,  2.,  5.,  6.],\n",
       "       [ 2.,  9.,  6.,  8.],\n",
       "       [10.,  7.,  6.,  8.],\n",
       "       [ 5.,  4.,  8.,  1.]])"
      ]
     },
     "execution_count": 50,
     "metadata": {},
     "output_type": "execute_result"
    }
   ],
   "source": [
    "A"
   ]
  },
  {
   "cell_type": "code",
   "execution_count": 51,
   "id": "12e10dcb",
   "metadata": {},
   "outputs": [
    {
     "data": {
      "text/plain": [
       "array([7., 2., 5., 6.])"
      ]
     },
     "execution_count": 51,
     "metadata": {},
     "output_type": "execute_result"
    }
   ],
   "source": [
    "A[1,:]"
   ]
  },
  {
   "cell_type": "code",
   "execution_count": 52,
   "id": "414ec3ff",
   "metadata": {},
   "outputs": [
    {
     "data": {
      "text/plain": [
       "array([[5., 6.],\n",
       "       [6., 8.]])"
      ]
     },
     "execution_count": 52,
     "metadata": {},
     "output_type": "execute_result"
    }
   ],
   "source": [
    "A[1:3,2:4]"
   ]
  },
  {
   "cell_type": "code",
   "execution_count": 53,
   "id": "34e4bef6",
   "metadata": {},
   "outputs": [
    {
     "data": {
      "text/plain": [
       "array([[ 1.,  7.,  2., 10.,  5.],\n",
       "       [ 1.,  2.,  9.,  7.,  4.],\n",
       "       [ 8.,  5.,  6.,  6.,  8.],\n",
       "       [ 9.,  6.,  8.,  8.,  1.]])"
      ]
     },
     "execution_count": 53,
     "metadata": {},
     "output_type": "execute_result"
    }
   ],
   "source": [
    "A.T"
   ]
  },
  {
   "cell_type": "code",
   "execution_count": 54,
   "id": "cd807f89",
   "metadata": {},
   "outputs": [],
   "source": [
    "import numpy.linalg as la"
   ]
  },
  {
   "cell_type": "code",
   "execution_count": 55,
   "id": "854a8b17",
   "metadata": {},
   "outputs": [
    {
     "data": {
      "text/plain": [
       "array([[ 6.30892694,  0.05856861, -9.09322851],\n",
       "       [-2.18199012, -1.95256779,  7.26892423],\n",
       "       [-7.35649405,  1.29450476, 10.32774906]])"
      ]
     },
     "execution_count": 55,
     "metadata": {},
     "output_type": "execute_result"
    }
   ],
   "source": [
    "la.inv(np.random.rand(3,3))"
   ]
  },
  {
   "cell_type": "code",
   "execution_count": 56,
   "id": "81c58190",
   "metadata": {},
   "outputs": [],
   "source": [
    "A.sort(axis=0)"
   ]
  },
  {
   "cell_type": "code",
   "execution_count": 58,
   "id": "0a8f88b8",
   "metadata": {},
   "outputs": [
    {
     "data": {
      "text/plain": [
       "array([[ 1.,  1.,  5.,  1.],\n",
       "       [ 2.,  2.,  6.,  6.],\n",
       "       [ 5.,  4.,  6.,  8.],\n",
       "       [ 7.,  7.,  8.,  8.],\n",
       "       [10.,  9.,  8.,  9.]])"
      ]
     },
     "execution_count": 58,
     "metadata": {},
     "output_type": "execute_result"
    }
   ],
   "source": [
    "A"
   ]
  },
  {
   "cell_type": "code",
   "execution_count": 59,
   "id": "5b343257",
   "metadata": {},
   "outputs": [],
   "source": [
    "A= np.arange(100)"
   ]
  },
  {
   "cell_type": "code",
   "execution_count": 60,
   "id": "bb6680d3",
   "metadata": {},
   "outputs": [],
   "source": [
    "B= A[[3,4,6]]"
   ]
  },
  {
   "cell_type": "code",
   "execution_count": 61,
   "id": "2c9c3697",
   "metadata": {},
   "outputs": [
    {
     "data": {
      "text/plain": [
       "array([3, 4, 6])"
      ]
     },
     "execution_count": 61,
     "metadata": {},
     "output_type": "execute_result"
    }
   ],
   "source": [
    "B"
   ]
  },
  {
   "cell_type": "code",
   "execution_count": 62,
   "id": "fdea55db",
   "metadata": {},
   "outputs": [
    {
     "data": {
      "text/plain": [
       "array([ 0,  1,  2,  3,  4,  5,  6,  7,  8,  9, 10, 11, 12, 13, 14, 15, 16,\n",
       "       17, 18, 19, 20, 21, 22, 23, 24, 25, 26, 27, 28, 29, 30, 31, 32, 33,\n",
       "       34, 35, 36, 37, 38, 39, 40, 41, 42, 43, 44, 45, 46, 47, 48, 49, 50,\n",
       "       51, 52, 53, 54, 55, 56, 57, 58, 59, 60, 61, 62, 63, 64, 65, 66, 67,\n",
       "       68, 69, 70, 71, 72, 73, 74, 75, 76, 77, 78, 79, 80, 81, 82, 83, 84,\n",
       "       85, 86, 87, 88, 89, 90, 91, 92, 93, 94, 95, 96, 97, 98, 99])"
      ]
     },
     "execution_count": 62,
     "metadata": {},
     "output_type": "execute_result"
    }
   ],
   "source": [
    "A"
   ]
  },
  {
   "cell_type": "code",
   "execution_count": 63,
   "id": "e78b7795",
   "metadata": {},
   "outputs": [],
   "source": [
    "B= A[A<40]"
   ]
  },
  {
   "cell_type": "code",
   "execution_count": 64,
   "id": "96c2c7c4",
   "metadata": {},
   "outputs": [
    {
     "data": {
      "text/plain": [
       "array([ 0,  1,  2,  3,  4,  5,  6,  7,  8,  9, 10, 11, 12, 13, 14, 15, 16,\n",
       "       17, 18, 19, 20, 21, 22, 23, 24, 25, 26, 27, 28, 29, 30, 31, 32, 33,\n",
       "       34, 35, 36, 37, 38, 39])"
      ]
     },
     "execution_count": 64,
     "metadata": {},
     "output_type": "execute_result"
    }
   ],
   "source": [
    "B"
   ]
  },
  {
   "cell_type": "code",
   "execution_count": 74,
   "id": "bb0b030a",
   "metadata": {},
   "outputs": [],
   "source": [
    "A= np.round(10*np.random.rand(2,3))"
   ]
  },
  {
   "cell_type": "code",
   "execution_count": 75,
   "id": "64da1abd",
   "metadata": {},
   "outputs": [
    {
     "data": {
      "text/plain": [
       "array([[ 0., 10., 10.],\n",
       "       [ 0.,  0.,  6.]])"
      ]
     },
     "execution_count": 75,
     "metadata": {},
     "output_type": "execute_result"
    }
   ],
   "source": [
    "A"
   ]
  },
  {
   "cell_type": "code",
   "execution_count": 76,
   "id": "3775d17f",
   "metadata": {},
   "outputs": [
    {
     "data": {
      "text/plain": [
       "array([[ 3., 13., 13.],\n",
       "       [ 3.,  3.,  9.]])"
      ]
     },
     "execution_count": 76,
     "metadata": {},
     "output_type": "execute_result"
    }
   ],
   "source": [
    "A+3"
   ]
  },
  {
   "cell_type": "code",
   "execution_count": 77,
   "id": "0943a23e",
   "metadata": {},
   "outputs": [
    {
     "data": {
      "text/plain": [
       "array([[ 0., 10., 10.],\n",
       "       [ 1.,  1.,  7.]])"
      ]
     },
     "execution_count": 77,
     "metadata": {},
     "output_type": "execute_result"
    }
   ],
   "source": [
    "A+np.arange(2).reshape(2,1)\n"
   ]
  },
  {
   "cell_type": "code",
   "execution_count": 78,
   "id": "36ee37ac",
   "metadata": {},
   "outputs": [
    {
     "data": {
      "text/plain": [
       "array([[ 0., 10., 10.],\n",
       "       [ 0.,  0.,  6.]])"
      ]
     },
     "execution_count": 78,
     "metadata": {},
     "output_type": "execute_result"
    }
   ],
   "source": [
    "A"
   ]
  },
  {
   "cell_type": "code",
   "execution_count": 79,
   "id": "4ba64366",
   "metadata": {},
   "outputs": [],
   "source": [
    "B= np.round(10*np.random.rand(2,2))"
   ]
  },
  {
   "cell_type": "code",
   "execution_count": 80,
   "id": "c84b3574",
   "metadata": {},
   "outputs": [
    {
     "data": {
      "text/plain": [
       "array([[5., 2.],\n",
       "       [1., 5.]])"
      ]
     },
     "execution_count": 80,
     "metadata": {},
     "output_type": "execute_result"
    }
   ],
   "source": [
    "B"
   ]
  },
  {
   "cell_type": "code",
   "execution_count": 81,
   "id": "cb5656ff",
   "metadata": {},
   "outputs": [
    {
     "data": {
      "text/plain": [
       "array([[ 0., 10., 10.],\n",
       "       [ 0.,  0.,  6.]])"
      ]
     },
     "execution_count": 81,
     "metadata": {},
     "output_type": "execute_result"
    }
   ],
   "source": [
    "A"
   ]
  },
  {
   "cell_type": "code",
   "execution_count": 82,
   "id": "bac9101e",
   "metadata": {},
   "outputs": [],
   "source": [
    "C= np.hstack((A,B))"
   ]
  },
  {
   "cell_type": "code",
   "execution_count": 83,
   "id": "3bb59f28",
   "metadata": {},
   "outputs": [
    {
     "data": {
      "text/plain": [
       "array([[ 0., 10., 10.,  5.,  2.],\n",
       "       [ 0.,  0.,  6.,  1.,  5.]])"
      ]
     },
     "execution_count": 83,
     "metadata": {},
     "output_type": "execute_result"
    }
   ],
   "source": [
    "C"
   ]
  },
  {
   "cell_type": "code",
   "execution_count": 84,
   "id": "43dfd59d",
   "metadata": {},
   "outputs": [],
   "source": [
    "A = np.random.permutation(np.arange(10))"
   ]
  },
  {
   "cell_type": "code",
   "execution_count": 85,
   "id": "1a6067ad",
   "metadata": {},
   "outputs": [
    {
     "data": {
      "text/plain": [
       "array([5, 3, 9, 0, 7, 1, 6, 8, 4, 2])"
      ]
     },
     "execution_count": 85,
     "metadata": {},
     "output_type": "execute_result"
    }
   ],
   "source": [
    "A"
   ]
  },
  {
   "cell_type": "code",
   "execution_count": 87,
   "id": "b0ae6d0c",
   "metadata": {},
   "outputs": [],
   "source": [
    "A.sort()"
   ]
  },
  {
   "cell_type": "code",
   "execution_count": 88,
   "id": "19cd764f",
   "metadata": {},
   "outputs": [
    {
     "data": {
      "text/plain": [
       "array([0, 1, 2, 3, 4, 5, 6, 7, 8, 9])"
      ]
     },
     "execution_count": 88,
     "metadata": {},
     "output_type": "execute_result"
    }
   ],
   "source": [
    "A"
   ]
  },
  {
   "cell_type": "code",
   "execution_count": 89,
   "id": "f0b06ab9",
   "metadata": {},
   "outputs": [
    {
     "data": {
      "text/plain": [
       "array([0, 1, 2, 3, 4, 5, 6, 7, 8, 9])"
      ]
     },
     "execution_count": 89,
     "metadata": {},
     "output_type": "execute_result"
    }
   ],
   "source": [
    "np.sort(A)"
   ]
  },
  {
   "cell_type": "code",
   "execution_count": 90,
   "id": "d5ba7dff",
   "metadata": {},
   "outputs": [
    {
     "name": "stdout",
     "output_type": "stream",
     "text": [
      "1.04 ms ± 18.3 µs per loop (mean ± std. dev. of 7 runs, 1,000 loops each)\n",
      "6.19 µs ± 656 ns per loop (mean ± std. dev. of 7 runs, 100,000 loops each)\n"
     ]
    }
   ],
   "source": [
    "B= np.random.rand(10000)\n",
    "%timeit sum(B)\n",
    "%timeit np.sum(B)  #B.sum"
   ]
  },
  {
   "cell_type": "code",
   "execution_count": null,
   "id": "b3653113",
   "metadata": {},
   "outputs": [],
   "source": []
  }
 ],
 "metadata": {
  "kernelspec": {
   "display_name": "Python 3 (ipykernel)",
   "language": "python",
   "name": "python3"
  },
  "language_info": {
   "codemirror_mode": {
    "name": "ipython",
    "version": 3
   },
   "file_extension": ".py",
   "mimetype": "text/x-python",
   "name": "python",
   "nbconvert_exporter": "python",
   "pygments_lexer": "ipython3",
   "version": "3.10.11"
  }
 },
 "nbformat": 4,
 "nbformat_minor": 5
}
